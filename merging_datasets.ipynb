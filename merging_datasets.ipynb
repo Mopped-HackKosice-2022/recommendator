{
 "cells": [
  {
   "cell_type": "code",
   "execution_count": 25,
   "id": "9055672b",
   "metadata": {},
   "outputs": [],
   "source": [
    "import pandas as pd\n",
    "import numpy as np"
   ]
  },
  {
   "cell_type": "code",
   "execution_count": 47,
   "id": "5e72584a",
   "metadata": {},
   "outputs": [],
   "source": [
    "cat_items = pd.read_csv(\"data/catalog_items.csv\")\n",
    "pur_products = pd.read_csv(\"data/purchased_producs.csv\")\n",
    "visitd_products = pd.read_csv(\"data/visited_products.csv\")"
   ]
  },
  {
   "cell_type": "code",
   "execution_count": 19,
   "id": "c4298dab",
   "metadata": {},
   "outputs": [],
   "source": [
    "items = cat_items.merge(visitd_products, on='product_id',how='left')\n",
    "items = items.drop_duplicates(subset=['product_id'], keep='last')\n",
    "items = items.drop(columns=['customer_id', 'timestamp'])\n",
    "items = items.fillna(0)"
   ]
  },
  {
   "cell_type": "code",
   "execution_count": 60,
   "id": "4c189155",
   "metadata": {},
   "outputs": [],
   "source": [
    "items.to_csv(\"data/items.csv\",index=False)"
   ]
  },
  {
   "cell_type": "code",
   "execution_count": 48,
   "id": "96deb491",
   "metadata": {},
   "outputs": [],
   "source": [
    "pur_products['value'] = 5\n",
    "visitd_products['value'] = 1\n",
    "visitd_products = visitd_products.drop(columns=['price'])\n",
    "users = pd.concat([pur_products, visitd_products])\n",
    "users['timestamp'] = pd.to_datetime(users['timestamp'], utc=True)\n",
    "users.reset_index()"
   ]
  },
  {
   "cell_type": "code",
   "execution_count": 61,
   "id": "e2780663",
   "metadata": {},
   "outputs": [],
   "source": [
    "users.to_csv(\"data/users.csv\",index=False)"
   ]
  }
 ],
 "metadata": {
  "kernelspec": {
   "display_name": "Python 3",
   "language": "python",
   "name": "python3"
  },
  "language_info": {
   "codemirror_mode": {
    "name": "ipython",
    "version": 3
   },
   "file_extension": ".py",
   "mimetype": "text/x-python",
   "name": "python",
   "nbconvert_exporter": "python",
   "pygments_lexer": "ipython3",
   "version": "3.8.12"
  }
 },
 "nbformat": 4,
 "nbformat_minor": 5
}
