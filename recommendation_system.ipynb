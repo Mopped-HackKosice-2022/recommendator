{
 "cells": [
  {
   "cell_type": "code",
   "execution_count": 220,
   "id": "74909cf6",
   "metadata": {},
   "outputs": [],
   "source": [
    "import pandas as pd\n",
    "import numpy as np\n",
    "from sklearn import preprocessing\n",
    "from sklearn.model_selection import train_test_split"
   ]
  },
  {
   "cell_type": "code",
   "execution_count": 216,
   "id": "4d950aec",
   "metadata": {},
   "outputs": [
    {
     "data": {
      "text/html": [
       "<div>\n",
       "<style scoped>\n",
       "    .dataframe tbody tr th:only-of-type {\n",
       "        vertical-align: middle;\n",
       "    }\n",
       "\n",
       "    .dataframe tbody tr th {\n",
       "        vertical-align: top;\n",
       "    }\n",
       "\n",
       "    .dataframe thead th {\n",
       "        text-align: right;\n",
       "    }\n",
       "</style>\n",
       "<table border=\"1\" class=\"dataframe\">\n",
       "  <thead>\n",
       "    <tr style=\"text-align: right;\">\n",
       "      <th></th>\n",
       "      <th>product_id</th>\n",
       "      <th>category</th>\n",
       "      <th>subcategory</th>\n",
       "      <th>price</th>\n",
       "    </tr>\n",
       "  </thead>\n",
       "  <tbody>\n",
       "    <tr>\n",
       "      <th>0</th>\n",
       "      <td>0001c1dd-462e-453c-bac8-2fcdc0b0bc8d</td>\n",
       "      <td>A</td>\n",
       "      <td>0</td>\n",
       "      <td>264.61</td>\n",
       "    </tr>\n",
       "    <tr>\n",
       "      <th>1</th>\n",
       "      <td>0002278b-67e3-406e-bfc2-63c48c195e2b</td>\n",
       "      <td>A</td>\n",
       "      <td>0</td>\n",
       "      <td>248.31</td>\n",
       "    </tr>\n",
       "    <tr>\n",
       "      <th>2</th>\n",
       "      <td>0002c59e-df87-47a8-a27d-26b34340bee5</td>\n",
       "      <td>B</td>\n",
       "      <td>1</td>\n",
       "      <td>379.53</td>\n",
       "    </tr>\n",
       "    <tr>\n",
       "      <th>3</th>\n",
       "      <td>000362d7-cc2a-4912-b5ab-0b931e77942a</td>\n",
       "      <td>C</td>\n",
       "      <td>2</td>\n",
       "      <td>0.00</td>\n",
       "    </tr>\n",
       "    <tr>\n",
       "      <th>4</th>\n",
       "      <td>000408f0-f0d0-447f-8700-30bb7dd390b1</td>\n",
       "      <td>A</td>\n",
       "      <td>0</td>\n",
       "      <td>0.00</td>\n",
       "    </tr>\n",
       "  </tbody>\n",
       "</table>\n",
       "</div>"
      ],
      "text/plain": [
       "                             product_id category  subcategory   price\n",
       "0  0001c1dd-462e-453c-bac8-2fcdc0b0bc8d        A            0  264.61\n",
       "1  0002278b-67e3-406e-bfc2-63c48c195e2b        A            0  248.31\n",
       "2  0002c59e-df87-47a8-a27d-26b34340bee5        B            1  379.53\n",
       "3  000362d7-cc2a-4912-b5ab-0b931e77942a        C            2    0.00\n",
       "4  000408f0-f0d0-447f-8700-30bb7dd390b1        A            0    0.00"
      ]
     },
     "execution_count": 216,
     "metadata": {},
     "output_type": "execute_result"
    }
   ],
   "source": [
    "item = pd.read_csv(\"data/items.csv\")\n",
    "item.head()"
   ]
  },
  {
   "cell_type": "code",
   "execution_count": 184,
   "id": "59134791",
   "metadata": {},
   "outputs": [],
   "source": [
    "user = pd.read_csv(\"data/users.csv\")"
   ]
  },
  {
   "cell_type": "code",
   "execution_count": 217,
   "id": "35efe49f",
   "metadata": {},
   "outputs": [],
   "source": [
    "le_customer = preprocessing.LabelEncoder()\n",
    "le_product = preprocessing.LabelEncoder()\n",
    "user['customer_id'] = le_customer.fit_transform(user['customer_id'])\n",
    "user['product_id'] = le_customer.fit_transform(user['product_id'])"
   ]
  },
  {
   "cell_type": "code",
   "execution_count": 218,
   "id": "e68a331e",
   "metadata": {},
   "outputs": [
    {
     "data": {
      "text/html": [
       "<div>\n",
       "<style scoped>\n",
       "    .dataframe tbody tr th:only-of-type {\n",
       "        vertical-align: middle;\n",
       "    }\n",
       "\n",
       "    .dataframe tbody tr th {\n",
       "        vertical-align: top;\n",
       "    }\n",
       "\n",
       "    .dataframe thead th {\n",
       "        text-align: right;\n",
       "    }\n",
       "</style>\n",
       "<table border=\"1\" class=\"dataframe\">\n",
       "  <thead>\n",
       "    <tr style=\"text-align: right;\">\n",
       "      <th></th>\n",
       "      <th>customer_id</th>\n",
       "      <th>product_id</th>\n",
       "      <th>timestamp</th>\n",
       "      <th>value</th>\n",
       "    </tr>\n",
       "  </thead>\n",
       "  <tbody>\n",
       "    <tr>\n",
       "      <th>0</th>\n",
       "      <td>113346</td>\n",
       "      <td>0</td>\n",
       "      <td>2021-03-22 04:45:17.308966+00:00</td>\n",
       "      <td>5</td>\n",
       "    </tr>\n",
       "    <tr>\n",
       "      <th>1</th>\n",
       "      <td>1121730</td>\n",
       "      <td>1</td>\n",
       "      <td>2021-03-22 04:59:26.404186+00:00</td>\n",
       "      <td>5</td>\n",
       "    </tr>\n",
       "    <tr>\n",
       "      <th>2</th>\n",
       "      <td>695567</td>\n",
       "      <td>2</td>\n",
       "      <td>2021-03-22 05:13:58.989935+00:00</td>\n",
       "      <td>5</td>\n",
       "    </tr>\n",
       "    <tr>\n",
       "      <th>3</th>\n",
       "      <td>695567</td>\n",
       "      <td>3</td>\n",
       "      <td>2021-03-22 05:13:58.991935+00:00</td>\n",
       "      <td>5</td>\n",
       "    </tr>\n",
       "    <tr>\n",
       "      <th>4</th>\n",
       "      <td>868593</td>\n",
       "      <td>4</td>\n",
       "      <td>2021-03-22 05:32:16.083698+00:00</td>\n",
       "      <td>5</td>\n",
       "    </tr>\n",
       "  </tbody>\n",
       "</table>\n",
       "</div>"
      ],
      "text/plain": [
       "   customer_id  product_id                         timestamp  value\n",
       "0       113346           0  2021-03-22 04:45:17.308966+00:00      5\n",
       "1      1121730           1  2021-03-22 04:59:26.404186+00:00      5\n",
       "2       695567           2  2021-03-22 05:13:58.989935+00:00      5\n",
       "3       695567           3  2021-03-22 05:13:58.991935+00:00      5\n",
       "4       868593           4  2021-03-22 05:32:16.083698+00:00      5"
      ]
     },
     "execution_count": 218,
     "metadata": {},
     "output_type": "execute_result"
    }
   ],
   "source": [
    "user.head()"
   ]
  },
  {
   "cell_type": "code",
   "execution_count": 221,
   "id": "2fa9f9eb",
   "metadata": {},
   "outputs": [],
   "source": [
    "train, test = train_test_split(user, test_size = 0.25, random_state = 42)"
   ]
  },
  {
   "cell_type": "code",
   "execution_count": 296,
   "id": "97536a4d",
   "metadata": {},
   "outputs": [],
   "source": [
    "from tensorflow.keras import layers, Model\n",
    "from tensorflow.keras.optimizers import Adam, RMSprop"
   ]
  },
  {
   "cell_type": "code",
   "execution_count": 320,
   "id": "ced15c05",
   "metadata": {},
   "outputs": [],
   "source": [
    "def make_model(embedding_size, num_values, num_users, num_rows):\n",
    "    product_input = layers.Input(shape=(1,), name='value')\n",
    "\n",
    "    product_emb = layers.Embedding(output_dim = embedding_size , input_dim = len(user.customer_id.unique()) + 1 , name='product_emb')(product_input)\n",
    "    product_vec = layers.Flatten(name='FlattenProduct')(product_emb)\n",
    "\n",
    "    product_model = Model(inputs= product_input, outputs = product_vec)\n",
    "    \n",
    "    user_input = layers.Input(shape=(1,), name='customer_id')\n",
    "\n",
    "    user_emb = layers.Embedding(output_dim = embedding_size, input_dim = len(user.product_id.unique()) + 1, name='user_emb')(user_input)\n",
    "    user_vec = layers.Flatten(name='FlattenUser')(user_emb)\n",
    "\n",
    "    user_model = Model(inputs = user_input, outputs = user_vec)\n",
    "    \n",
    "    merged = layers.Dot(name = 'dot_product', normalize = True, axes = 2)([product_emb, user_emb])\n",
    "    merged_dropout = layers.Dropout(0.2)(merged)\n",
    "    \n",
    "    \n",
    "    #dense_1 = layers.Dense(70, name = 'FullyConnected-1')(merged)\n",
    "    #dropout_1 = layers.Dropout(0.2, name = 'Dropout_1')(dense_1)\n",
    "\n",
    "    #dense_2 = layers.Dense(50, name='FullyConnected-2')(dropout_1)\n",
    "    #dropout_2 = layers.Dropout(0.2, name='Dropout_2')(dense_2)\n",
    "\n",
    "    dense_3 = layers.Dense(20,name='FullyConnected-3')(merged)\n",
    "    dropout_3 = layers.Dropout(0.2,name='Dropout_3')(dense_3)\n",
    "\n",
    "    dense_4 = layers.Dense(10,name='FullyConnected-4', activation='relu')(dropout_3)\n",
    "\n",
    "    result = layers.Dense(1, name='result', activation=\"relu\") (dense_4)\n",
    "\n",
    "    adam = Adam(lr=0.001)\n",
    "    model = Model([product_input, user_input], result)\n",
    "    model.compile(optimizer = adam, loss= 'mean_absolute_error', metrics = [\"accuracy\"])\n",
    "    return model, product_model, user_model"
   ]
  },
  {
   "cell_type": "code",
   "execution_count": 321,
   "id": "549373d6",
   "metadata": {},
   "outputs": [],
   "source": [
    "model, product_model, user_model = make_model(10, num_value, num_users, df_train.shape[0])"
   ]
  },
  {
   "cell_type": "code",
   "execution_count": 322,
   "id": "7c147f78",
   "metadata": {},
   "outputs": [
    {
     "data": {
      "text/html": [
       "<div>\n",
       "<style scoped>\n",
       "    .dataframe tbody tr th:only-of-type {\n",
       "        vertical-align: middle;\n",
       "    }\n",
       "\n",
       "    .dataframe tbody tr th {\n",
       "        vertical-align: top;\n",
       "    }\n",
       "\n",
       "    .dataframe thead th {\n",
       "        text-align: right;\n",
       "    }\n",
       "</style>\n",
       "<table border=\"1\" class=\"dataframe\">\n",
       "  <thead>\n",
       "    <tr style=\"text-align: right;\">\n",
       "      <th></th>\n",
       "      <th>customer_id</th>\n",
       "      <th>product_id</th>\n",
       "      <th>timestamp</th>\n",
       "      <th>value</th>\n",
       "    </tr>\n",
       "  </thead>\n",
       "  <tbody>\n",
       "    <tr>\n",
       "      <th>6830297</th>\n",
       "      <td>636000</td>\n",
       "      <td>863</td>\n",
       "      <td>2021-04-22 16:56:40.417467+00:00</td>\n",
       "      <td>1</td>\n",
       "    </tr>\n",
       "    <tr>\n",
       "      <th>12599642</th>\n",
       "      <td>709278</td>\n",
       "      <td>11605</td>\n",
       "      <td>2021-05-15 03:30:50.427634+00:00</td>\n",
       "      <td>1</td>\n",
       "    </tr>\n",
       "    <tr>\n",
       "      <th>8569471</th>\n",
       "      <td>2074131</td>\n",
       "      <td>212</td>\n",
       "      <td>2021-04-29 01:48:33.788175+00:00</td>\n",
       "      <td>1</td>\n",
       "    </tr>\n",
       "    <tr>\n",
       "      <th>9272220</th>\n",
       "      <td>1294099</td>\n",
       "      <td>28775</td>\n",
       "      <td>2021-05-01 22:17:27.536002+00:00</td>\n",
       "      <td>1</td>\n",
       "    </tr>\n",
       "    <tr>\n",
       "      <th>7907596</th>\n",
       "      <td>1568550</td>\n",
       "      <td>17553</td>\n",
       "      <td>2021-04-26 19:26:12.854142+00:00</td>\n",
       "      <td>1</td>\n",
       "    </tr>\n",
       "  </tbody>\n",
       "</table>\n",
       "</div>"
      ],
      "text/plain": [
       "          customer_id  product_id                         timestamp  value\n",
       "6830297        636000         863  2021-04-22 16:56:40.417467+00:00      1\n",
       "12599642       709278       11605  2021-05-15 03:30:50.427634+00:00      1\n",
       "8569471       2074131         212  2021-04-29 01:48:33.788175+00:00      1\n",
       "9272220       1294099       28775  2021-05-01 22:17:27.536002+00:00      1\n",
       "7907596       1568550       17553  2021-04-26 19:26:12.854142+00:00      1"
      ]
     },
     "execution_count": 322,
     "metadata": {},
     "output_type": "execute_result"
    }
   ],
   "source": [
    "train.head()"
   ]
  },
  {
   "cell_type": "code",
   "execution_count": 319,
   "id": "84e87dfe",
   "metadata": {},
   "outputs": [
    {
     "name": "stdout",
     "output_type": "stream",
     "text": [
      "yrs\n"
     ]
    }
   ],
   "source": [
    "train_list = list(train.value)\n",
    "if 5 in train_list:\n",
    "    print(\"yrs\")"
   ]
  },
  {
   "cell_type": "code",
   "execution_count": 323,
   "id": "c7ccf005",
   "metadata": {},
   "outputs": [
    {
     "name": "stdout",
     "output_type": "stream",
     "text": [
      "Epoch 1/2\n",
      "1388/1388 [==============================] - 263s 189ms/step - loss: 0.1261 - accuracy: 0.9392 - val_loss: 0.0515 - val_accuracy: 0.9872\n",
      "Epoch 2/2\n",
      "1388/1388 [==============================] - 263s 189ms/step - loss: 0.0523 - accuracy: 0.9873 - val_loss: 0.0545 - val_accuracy: 0.9872\n"
     ]
    }
   ],
   "source": [
    "epochs = 1\n",
    "r = model.fit(\n",
    "  x = [train.customer_id.values, train.product_id.values],\n",
    "  y = train.value.values,\n",
    "  epochs=epochs,\n",
    "  batch_size=8000,\n",
    "    validation_data=(\n",
    "    [test.customer_id.values, test.product_id.values],\n",
    "    test.value.values\n",
    "  )\n",
    ")"
   ]
  },
  {
   "cell_type": "code",
   "execution_count": 312,
   "id": "7d1644c9",
   "metadata": {},
   "outputs": [],
   "source": [
    "#test.drop(columns = [\"timestamp\"], inplace = True)"
   ]
  },
  {
   "cell_type": "code",
   "execution_count": 311,
   "id": "b944d738",
   "metadata": {},
   "outputs": [
    {
     "data": {
      "text/html": [
       "<div>\n",
       "<style scoped>\n",
       "    .dataframe tbody tr th:only-of-type {\n",
       "        vertical-align: middle;\n",
       "    }\n",
       "\n",
       "    .dataframe tbody tr th {\n",
       "        vertical-align: top;\n",
       "    }\n",
       "\n",
       "    .dataframe thead th {\n",
       "        text-align: right;\n",
       "    }\n",
       "</style>\n",
       "<table border=\"1\" class=\"dataframe\">\n",
       "  <thead>\n",
       "    <tr style=\"text-align: right;\">\n",
       "      <th></th>\n",
       "      <th>customer_id</th>\n",
       "      <th>product_id</th>\n",
       "      <th>value</th>\n",
       "    </tr>\n",
       "  </thead>\n",
       "  <tbody>\n",
       "    <tr>\n",
       "      <th>7419079</th>\n",
       "      <td>1230502</td>\n",
       "      <td>96110</td>\n",
       "      <td>1</td>\n",
       "    </tr>\n",
       "    <tr>\n",
       "      <th>13132036</th>\n",
       "      <td>1594492</td>\n",
       "      <td>750</td>\n",
       "      <td>1</td>\n",
       "    </tr>\n",
       "    <tr>\n",
       "      <th>4975236</th>\n",
       "      <td>1857601</td>\n",
       "      <td>1250</td>\n",
       "      <td>1</td>\n",
       "    </tr>\n",
       "    <tr>\n",
       "      <th>1875128</th>\n",
       "      <td>922514</td>\n",
       "      <td>7729</td>\n",
       "      <td>1</td>\n",
       "    </tr>\n",
       "    <tr>\n",
       "      <th>9160480</th>\n",
       "      <td>1414191</td>\n",
       "      <td>35410</td>\n",
       "      <td>1</td>\n",
       "    </tr>\n",
       "  </tbody>\n",
       "</table>\n",
       "</div>"
      ],
      "text/plain": [
       "          customer_id  product_id  value\n",
       "7419079       1230502       96110      1\n",
       "13132036      1594492         750      1\n",
       "4975236       1857601        1250      1\n",
       "1875128        922514        7729      1\n",
       "9160480       1414191       35410      1"
      ]
     },
     "execution_count": 311,
     "metadata": {},
     "output_type": "execute_result"
    }
   ],
   "source": [
    "test.tail()"
   ]
  },
  {
   "cell_type": "code",
   "execution_count": 310,
   "id": "27f89ffc",
   "metadata": {},
   "outputs": [
    {
     "name": "stdout",
     "output_type": "stream",
     "text": [
      "yes\n"
     ]
    }
   ],
   "source": [
    "value_list = list(test[\"value\"])\n",
    "if 5 in value_list:\n",
    "    print(\"yes\")"
   ]
  },
  {
   "cell_type": "code",
   "execution_count": 271,
   "id": "41b3eb7b",
   "metadata": {},
   "outputs": [
    {
     "data": {
      "text/plain": [
       "customer_id    976283\n",
       "product_id     115793\n",
       "value               1\n",
       "Name: 12557689, dtype: int64"
      ]
     },
     "execution_count": 271,
     "metadata": {},
     "output_type": "execute_result"
    }
   ],
   "source": [
    "test.iloc[0]"
   ]
  },
  {
   "cell_type": "code",
   "execution_count": null,
   "id": "3252fe0f",
   "metadata": {},
   "outputs": [],
   "source": [
    "arr = model.predict([ test.customer_id.values , test.product_id.values ])"
   ]
  },
  {
   "cell_type": "code",
   "execution_count": 318,
   "id": "3b97bf91",
   "metadata": {},
   "outputs": [],
   "source": [
    "arr = np.round(arr)\n",
    "if 5. in arr:\n",
    "    print(\"True\")"
   ]
  },
  {
   "cell_type": "code",
   "execution_count": 287,
   "id": "e0d127aa",
   "metadata": {},
   "outputs": [
    {
     "data": {
      "text/plain": [
       "(3700775, 3)"
      ]
     },
     "execution_count": 287,
     "metadata": {},
     "output_type": "execute_result"
    }
   ],
   "source": [
    "test.shape"
   ]
  },
  {
   "cell_type": "code",
   "execution_count": 288,
   "id": "cbaf9071",
   "metadata": {},
   "outputs": [
    {
     "data": {
      "text/plain": [
       "numpy.ndarray"
      ]
     },
     "execution_count": 288,
     "metadata": {},
     "output_type": "execute_result"
    }
   ],
   "source": [
    "import collections\n",
    "MOVIE_EMBEDDING_LIST = []\n",
    "MOVIE_EMBED_MAP = collections.defaultdict()\n",
    "UNIQUE_MOVIE_IDS = user[\"customer_id\"].unique()\n",
    "type(UNIQUE_MOVIE_IDS)"
   ]
  },
  {
   "cell_type": "code",
   "execution_count": 289,
   "id": "47396a43",
   "metadata": {},
   "outputs": [
    {
     "data": {
      "text/plain": [
       "array([ 113346, 1121730,  695567,  868593,  716965, 2004067, 1719348,\n",
       "        498138,  362569,   72725])"
      ]
     },
     "execution_count": 289,
     "metadata": {},
     "output_type": "execute_result"
    }
   ],
   "source": [
    "UNIQUE_MOVIE_IDS[:10]"
   ]
  },
  {
   "cell_type": "code",
   "execution_count": 293,
   "id": "d47698a2",
   "metadata": {},
   "outputs": [
    {
     "data": {
      "text/plain": [
       "[array([-0.01598167,  0.0084476 ,  0.00865109,  0.0132635 , -0.04414903],\n",
       "       dtype=float32),\n",
       " array([-0.00467436,  0.04511095,  0.04468863,  0.01084341, -0.01994261],\n",
       "       dtype=float32),\n",
       " array([0.04497014, 0.0378111 , 0.00078298, 0.00027316, 0.01748667],\n",
       "       dtype=float32),\n",
       " array([ 0.02604197, -0.02542784, -0.04157677,  0.01745602,  0.00638946],\n",
       "       dtype=float32),\n",
       " array([-0.02974293, -0.0357784 ,  0.0238178 , -0.0493248 ,  0.00313913],\n",
       "       dtype=float32),\n",
       " array([ 0.04011121,  0.01622117, -0.03266661,  0.0081953 ,  0.03808197],\n",
       "       dtype=float32),\n",
       " array([ 0.01499167, -0.04739866, -0.04962599, -0.04822024,  0.02555228],\n",
       "       dtype=float32),\n",
       " array([ 0.00715816, -0.04995593,  0.02017344,  0.03460372,  0.01181942],\n",
       "       dtype=float32),\n",
       " array([ 0.02132684, -0.04243025, -0.03705305,  0.04872218,  0.00115388],\n",
       "       dtype=float32),\n",
       " array([-0.0145869 ,  0.03844975, -0.00018432,  0.01352631,  0.0151811 ],\n",
       "       dtype=float32),\n",
       " array([-0.01598167,  0.0084476 ,  0.00865109,  0.0132635 , -0.04414903],\n",
       "       dtype=float32),\n",
       " array([-0.00467436,  0.04511095,  0.04468863,  0.01084341, -0.01994261],\n",
       "       dtype=float32),\n",
       " array([0.04497014, 0.0378111 , 0.00078298, 0.00027316, 0.01748667],\n",
       "       dtype=float32),\n",
       " array([ 0.02604197, -0.02542784, -0.04157677,  0.01745602,  0.00638946],\n",
       "       dtype=float32),\n",
       " array([-0.02974293, -0.0357784 ,  0.0238178 , -0.0493248 ,  0.00313913],\n",
       "       dtype=float32),\n",
       " array([ 0.04011121,  0.01622117, -0.03266661,  0.0081953 ,  0.03808197],\n",
       "       dtype=float32),\n",
       " array([ 0.01499167, -0.04739866, -0.04962599, -0.04822024,  0.02555228],\n",
       "       dtype=float32),\n",
       " array([ 0.00715816, -0.04995593,  0.02017344,  0.03460372,  0.01181942],\n",
       "       dtype=float32),\n",
       " array([ 0.02132684, -0.04243025, -0.03705305,  0.04872218,  0.00115388],\n",
       "       dtype=float32),\n",
       " array([-0.0145869 ,  0.03844975, -0.00018432,  0.01352631,  0.0151811 ],\n",
       "       dtype=float32)]"
      ]
     },
     "execution_count": 293,
     "metadata": {},
     "output_type": "execute_result"
    }
   ],
   "source": [
    "for _id in UNIQUE_MOVIE_IDS[:10]:\n",
    "    emb = user_model.predict(np.array([_id]))\n",
    "    val = list(emb.reshape(1,-1))[0]\n",
    "    MOVIE_EMBEDDING_LIST.insert(_id, val)\n",
    "    MOVIE_EMBED_MAP[_id] = val\n",
    "\n",
    "MOVIE_EMBEDDING_LIST"
   ]
  },
  {
   "cell_type": "code",
   "execution_count": 292,
   "id": "ed76d38d",
   "metadata": {},
   "outputs": [
    {
     "ename": "ValueError",
     "evalue": "Unknown label type: 'continuous-multioutput'",
     "output_type": "error",
     "traceback": [
      "\u001b[1;31m---------------------------------------------------------------------------\u001b[0m",
      "\u001b[1;31mValueError\u001b[0m                                Traceback (most recent call last)",
      "Input \u001b[1;32mIn [292]\u001b[0m, in \u001b[0;36m<cell line: 9>\u001b[1;34m()\u001b[0m\n\u001b[0;32m      7\u001b[0m \u001b[38;5;28;01mfrom\u001b[39;00m \u001b[38;5;21;01msklearn\u001b[39;00m\u001b[38;5;21;01m.\u001b[39;00m\u001b[38;5;21;01mneighbors\u001b[39;00m \u001b[38;5;28;01mimport\u001b[39;00m KNeighborsClassifier\n\u001b[0;32m      8\u001b[0m clf \u001b[38;5;241m=\u001b[39m KNeighborsClassifier(n_neighbors\u001b[38;5;241m=\u001b[39m\u001b[38;5;241m11\u001b[39m)\n\u001b[1;32m----> 9\u001b[0m \u001b[43mclf\u001b[49m\u001b[38;5;241;43m.\u001b[39;49m\u001b[43mfit\u001b[49m\u001b[43m(\u001b[49m\u001b[43mMOVIE_EMBEDDING_LIST\u001b[49m\u001b[43m,\u001b[49m\u001b[43m \u001b[49m\u001b[43mknn_train_label\u001b[49m\u001b[43m)\u001b[49m\n\u001b[0;32m     11\u001b[0m \u001b[38;5;28;01mdef\u001b[39;00m \u001b[38;5;21mrecommend_movies\u001b[39m(embedding):\n\u001b[0;32m     12\u001b[0m     distances, indices \u001b[38;5;241m=\u001b[39m clf\u001b[38;5;241m.\u001b[39mkneighbors(embedding\u001b[38;5;241m.\u001b[39mreshape(\u001b[38;5;241m1\u001b[39m, \u001b[38;5;241m-\u001b[39m\u001b[38;5;241m1\u001b[39m),  n_neighbors\u001b[38;5;241m=\u001b[39m\u001b[38;5;241m10\u001b[39m)\n",
      "File \u001b[1;32m~\\anaconda3\\lib\\site-packages\\sklearn\\neighbors\\_classification.py:198\u001b[0m, in \u001b[0;36mKNeighborsClassifier.fit\u001b[1;34m(self, X, y)\u001b[0m\n\u001b[0;32m    179\u001b[0m \u001b[38;5;124;03m\"\"\"Fit the k-nearest neighbors classifier from the training dataset.\u001b[39;00m\n\u001b[0;32m    180\u001b[0m \n\u001b[0;32m    181\u001b[0m \u001b[38;5;124;03mParameters\u001b[39;00m\n\u001b[1;32m   (...)\u001b[0m\n\u001b[0;32m    194\u001b[0m \u001b[38;5;124;03m    The fitted k-nearest neighbors classifier.\u001b[39;00m\n\u001b[0;32m    195\u001b[0m \u001b[38;5;124;03m\"\"\"\u001b[39;00m\n\u001b[0;32m    196\u001b[0m \u001b[38;5;28mself\u001b[39m\u001b[38;5;241m.\u001b[39mweights \u001b[38;5;241m=\u001b[39m _check_weights(\u001b[38;5;28mself\u001b[39m\u001b[38;5;241m.\u001b[39mweights)\n\u001b[1;32m--> 198\u001b[0m \u001b[38;5;28;01mreturn\u001b[39;00m \u001b[38;5;28;43mself\u001b[39;49m\u001b[38;5;241;43m.\u001b[39;49m\u001b[43m_fit\u001b[49m\u001b[43m(\u001b[49m\u001b[43mX\u001b[49m\u001b[43m,\u001b[49m\u001b[43m \u001b[49m\u001b[43my\u001b[49m\u001b[43m)\u001b[49m\n",
      "File \u001b[1;32m~\\anaconda3\\lib\\site-packages\\sklearn\\neighbors\\_base.py:420\u001b[0m, in \u001b[0;36mNeighborsBase._fit\u001b[1;34m(self, X, y)\u001b[0m\n\u001b[0;32m    417\u001b[0m \u001b[38;5;28;01melse\u001b[39;00m:\n\u001b[0;32m    418\u001b[0m     \u001b[38;5;28mself\u001b[39m\u001b[38;5;241m.\u001b[39moutputs_2d_ \u001b[38;5;241m=\u001b[39m \u001b[38;5;28;01mTrue\u001b[39;00m\n\u001b[1;32m--> 420\u001b[0m \u001b[43mcheck_classification_targets\u001b[49m\u001b[43m(\u001b[49m\u001b[43my\u001b[49m\u001b[43m)\u001b[49m\n\u001b[0;32m    421\u001b[0m \u001b[38;5;28mself\u001b[39m\u001b[38;5;241m.\u001b[39mclasses_ \u001b[38;5;241m=\u001b[39m []\n\u001b[0;32m    422\u001b[0m \u001b[38;5;28mself\u001b[39m\u001b[38;5;241m.\u001b[39m_y \u001b[38;5;241m=\u001b[39m np\u001b[38;5;241m.\u001b[39mempty(y\u001b[38;5;241m.\u001b[39mshape, dtype\u001b[38;5;241m=\u001b[39m\u001b[38;5;28mint\u001b[39m)\n",
      "File \u001b[1;32m~\\anaconda3\\lib\\site-packages\\sklearn\\utils\\multiclass.py:197\u001b[0m, in \u001b[0;36mcheck_classification_targets\u001b[1;34m(y)\u001b[0m\n\u001b[0;32m    189\u001b[0m y_type \u001b[38;5;241m=\u001b[39m type_of_target(y)\n\u001b[0;32m    190\u001b[0m \u001b[38;5;28;01mif\u001b[39;00m y_type \u001b[38;5;129;01mnot\u001b[39;00m \u001b[38;5;129;01min\u001b[39;00m [\n\u001b[0;32m    191\u001b[0m     \u001b[38;5;124m\"\u001b[39m\u001b[38;5;124mbinary\u001b[39m\u001b[38;5;124m\"\u001b[39m,\n\u001b[0;32m    192\u001b[0m     \u001b[38;5;124m\"\u001b[39m\u001b[38;5;124mmulticlass\u001b[39m\u001b[38;5;124m\"\u001b[39m,\n\u001b[1;32m   (...)\u001b[0m\n\u001b[0;32m    195\u001b[0m     \u001b[38;5;124m\"\u001b[39m\u001b[38;5;124mmultilabel-sequences\u001b[39m\u001b[38;5;124m\"\u001b[39m,\n\u001b[0;32m    196\u001b[0m ]:\n\u001b[1;32m--> 197\u001b[0m     \u001b[38;5;28;01mraise\u001b[39;00m \u001b[38;5;167;01mValueError\u001b[39;00m(\u001b[38;5;124m\"\u001b[39m\u001b[38;5;124mUnknown label type: \u001b[39m\u001b[38;5;132;01m%r\u001b[39;00m\u001b[38;5;124m\"\u001b[39m \u001b[38;5;241m%\u001b[39m y_type)\n",
      "\u001b[1;31mValueError\u001b[0m: Unknown label type: 'continuous-multioutput'"
     ]
    }
   ],
   "source": [
    "TEST_USER_ID = 200\n",
    "#get the embedding of this user\n",
    "user_embedding = user_model.predict([TEST_USER_ID]).reshape(1,-1)[0]\n",
    "knn_train_label = MOVIE_EMBEDDING_LIST\n",
    "\n",
    "#create the KNN model\n",
    "from sklearn.neighbors import KNeighborsClassifier\n",
    "clf = KNeighborsClassifier(n_neighbors=11)\n",
    "clf.fit(MOVIE_EMBEDDING_LIST, knn_train_label)\n",
    "\n",
    "def recommend_movies(embedding):\n",
    "    distances, indices = clf.kneighbors(embedding.reshape(1, -1),  n_neighbors=10)\n",
    "    indices = indices.reshape(10,1)\n",
    "    df_indices = pd.DataFrame(indices, columns = ['movie_id'])\n",
    "    return df_indices.merge(movies,on='movie_id',how='inner',suffixes=['_u', '_m'])['title']\n",
    "  \n",
    "# get the recommendation\n",
    "recommend_movies(user_embedding)"
   ]
  },
  {
   "cell_type": "code",
   "execution_count": null,
   "id": "adf1ba9e",
   "metadata": {},
   "outputs": [],
   "source": []
  }
 ],
 "metadata": {
  "kernelspec": {
   "display_name": "Python 3 (ipykernel)",
   "language": "python",
   "name": "python3"
  },
  "language_info": {
   "codemirror_mode": {
    "name": "ipython",
    "version": 3
   },
   "file_extension": ".py",
   "mimetype": "text/x-python",
   "name": "python",
   "nbconvert_exporter": "python",
   "pygments_lexer": "ipython3",
   "version": "3.8.8"
  }
 },
 "nbformat": 4,
 "nbformat_minor": 5
}
